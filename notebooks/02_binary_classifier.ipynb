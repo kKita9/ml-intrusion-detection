{
 "cells": [
  {
   "cell_type": "markdown",
   "id": "8c988283",
   "metadata": {},
   "source": [
    "# Binary classifier: detects attacks (1) vs benign activity (0), trained on all datasets"
   ]
  },
  {
   "cell_type": "code",
   "execution_count": 4,
   "id": "b1343919-d2f9-415c-adb4-44196f1ac870",
   "metadata": {},
   "outputs": [],
   "source": [
    "import sys\n",
    "import os\n",
    "sys.path.append(os.path.abspath(\"..\"))"
   ]
  },
  {
   "cell_type": "code",
   "execution_count": 5,
   "id": "b508ac72-673f-475a-8694-6adfa1eb0f83",
   "metadata": {},
   "outputs": [],
   "source": [
    "%load_ext autoreload\n",
    "%autoreload 2"
   ]
  },
  {
   "cell_type": "code",
   "execution_count": 16,
   "id": "600c7904",
   "metadata": {},
   "outputs": [],
   "source": [
    "from utils.model_utils import split_data, train_model, evaluate_model, save_model\n",
    "from utils import data_preparation"
   ]
  },
  {
   "cell_type": "code",
   "execution_count": 14,
   "id": "8435bcef-707c-4642-8647-a26d74f721bd",
   "metadata": {},
   "outputs": [
    {
     "name": "stdout",
     "output_type": "stream",
     "text": [
      "Dataset loaded from: ../datasets/cic-ids2017_allattacks_sharedcols_clean_v1_20250714_222047.csv — shape: (2574151, 9)\n"
     ]
    }
   ],
   "source": [
    "data = data_preparation.load_dataset('../datasets/cic-ids2017_allattacks_sharedcols_clean_v1_20250714_222047.csv')"
   ]
  },
  {
   "cell_type": "code",
   "execution_count": 15,
   "id": "69d79607-3970-473a-893d-9e27ff236f6f",
   "metadata": {},
   "outputs": [
    {
     "data": {
      "text/html": [
       "<div>\n",
       "<style scoped>\n",
       "    .dataframe tbody tr th:only-of-type {\n",
       "        vertical-align: middle;\n",
       "    }\n",
       "\n",
       "    .dataframe tbody tr th {\n",
       "        vertical-align: top;\n",
       "    }\n",
       "\n",
       "    .dataframe thead th {\n",
       "        text-align: right;\n",
       "    }\n",
       "</style>\n",
       "<table border=\"1\" class=\"dataframe\">\n",
       "  <thead>\n",
       "    <tr style=\"text-align: right;\">\n",
       "      <th></th>\n",
       "      <th>ack_flag</th>\n",
       "      <th>dst_port</th>\n",
       "      <th>fin_flag</th>\n",
       "      <th>flow_duration</th>\n",
       "      <th>psh_flag</th>\n",
       "      <th>syn_flag</th>\n",
       "      <th>bwd_pkts</th>\n",
       "      <th>fwd_pkts</th>\n",
       "      <th>label</th>\n",
       "    </tr>\n",
       "  </thead>\n",
       "  <tbody>\n",
       "    <tr>\n",
       "      <th>0</th>\n",
       "      <td>1</td>\n",
       "      <td>54865</td>\n",
       "      <td>0</td>\n",
       "      <td>3</td>\n",
       "      <td>0</td>\n",
       "      <td>0</td>\n",
       "      <td>0</td>\n",
       "      <td>2</td>\n",
       "      <td>0</td>\n",
       "    </tr>\n",
       "    <tr>\n",
       "      <th>1</th>\n",
       "      <td>1</td>\n",
       "      <td>55054</td>\n",
       "      <td>0</td>\n",
       "      <td>109</td>\n",
       "      <td>0</td>\n",
       "      <td>0</td>\n",
       "      <td>1</td>\n",
       "      <td>1</td>\n",
       "      <td>0</td>\n",
       "    </tr>\n",
       "    <tr>\n",
       "      <th>2</th>\n",
       "      <td>1</td>\n",
       "      <td>55055</td>\n",
       "      <td>0</td>\n",
       "      <td>52</td>\n",
       "      <td>0</td>\n",
       "      <td>0</td>\n",
       "      <td>1</td>\n",
       "      <td>1</td>\n",
       "      <td>0</td>\n",
       "    </tr>\n",
       "    <tr>\n",
       "      <th>3</th>\n",
       "      <td>1</td>\n",
       "      <td>46236</td>\n",
       "      <td>0</td>\n",
       "      <td>34</td>\n",
       "      <td>0</td>\n",
       "      <td>0</td>\n",
       "      <td>1</td>\n",
       "      <td>1</td>\n",
       "      <td>0</td>\n",
       "    </tr>\n",
       "    <tr>\n",
       "      <th>4</th>\n",
       "      <td>1</td>\n",
       "      <td>54863</td>\n",
       "      <td>0</td>\n",
       "      <td>3</td>\n",
       "      <td>0</td>\n",
       "      <td>0</td>\n",
       "      <td>0</td>\n",
       "      <td>2</td>\n",
       "      <td>0</td>\n",
       "    </tr>\n",
       "  </tbody>\n",
       "</table>\n",
       "</div>"
      ],
      "text/plain": [
       "   ack_flag  dst_port  fin_flag  flow_duration  psh_flag  syn_flag  bwd_pkts  \\\n",
       "0         1     54865         0              3         0         0         0   \n",
       "1         1     55054         0            109         0         0         1   \n",
       "2         1     55055         0             52         0         0         1   \n",
       "3         1     46236         0             34         0         0         1   \n",
       "4         1     54863         0              3         0         0         0   \n",
       "\n",
       "   fwd_pkts  label  \n",
       "0         2      0  \n",
       "1         1      0  \n",
       "2         1      0  \n",
       "3         1      0  \n",
       "4         2      0  "
      ]
     },
     "execution_count": 15,
     "metadata": {},
     "output_type": "execute_result"
    }
   ],
   "source": [
    "data.head()"
   ]
  },
  {
   "cell_type": "code",
   "execution_count": 19,
   "id": "b19b1c80-719f-40b0-8924-9c7d6ab643c2",
   "metadata": {},
   "outputs": [],
   "source": [
    "X_train, X_test, y_train, y_test = split_data(data, 'label')"
   ]
  },
  {
   "cell_type": "code",
   "execution_count": 20,
   "id": "9adb3707",
   "metadata": {},
   "outputs": [],
   "source": [
    "model = train_model(X_train, y_train, model_type='rf')"
   ]
  },
  {
   "cell_type": "code",
   "execution_count": 21,
   "id": "ef32a189",
   "metadata": {},
   "outputs": [
    {
     "name": "stdout",
     "output_type": "stream",
     "text": [
      "=== Classification Report ===\n",
      "              precision    recall  f1-score   support\n",
      "\n",
      "           0       0.99      0.99      0.99    644482\n",
      "           1       0.97      0.97      0.97    127764\n",
      "\n",
      "    accuracy                           0.99    772246\n",
      "   macro avg       0.98      0.98      0.98    772246\n",
      "weighted avg       0.99      0.99      0.99    772246\n",
      "\n",
      "=== Confusion Matrix ===\n",
      "[[641094   3388]\n",
      " [  3369 124395]]\n",
      "ROC AUC: 0.9954\n"
     ]
    }
   ],
   "source": [
    "evaluate_model(model, X_test, y_test)"
   ]
  },
  {
   "cell_type": "code",
   "execution_count": 24,
   "id": "3df1567f-3ea4-47ff-8b87-c95dee5a9c84",
   "metadata": {},
   "outputs": [
    {
     "name": "stdout",
     "output_type": "stream",
     "text": [
      "Model saved to: models/rf_sharedcols_v1.pkl\n"
     ]
    },
    {
     "data": {
      "text/plain": [
       "'models/rf_sharedcols_v1.pkl'"
      ]
     },
     "execution_count": 24,
     "metadata": {},
     "output_type": "execute_result"
    }
   ],
   "source": [
    "save_model(model, name=\"rf_sharedcols_v1.pkl\")"
   ]
  },
  {
   "cell_type": "code",
   "execution_count": null,
   "id": "b464d798-733b-4019-ab87-4424ff85ac95",
   "metadata": {},
   "outputs": [],
   "source": []
  }
 ],
 "metadata": {
  "kernelspec": {
   "display_name": "Python 3 (ipykernel)",
   "language": "python",
   "name": "python3"
  },
  "language_info": {
   "codemirror_mode": {
    "name": "ipython",
    "version": 3
   },
   "file_extension": ".py",
   "mimetype": "text/x-python",
   "name": "python",
   "nbconvert_exporter": "python",
   "pygments_lexer": "ipython3",
   "version": "3.13.5"
  }
 },
 "nbformat": 4,
 "nbformat_minor": 5
}
