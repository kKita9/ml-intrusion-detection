{
 "cells": [
  {
   "cell_type": "markdown",
   "id": "898a917a-da88-443e-b722-277ed7b0bba0",
   "metadata": {},
   "source": [
    "# **multiclass classification**, where each type of attack (e.g. DDoS, PortScan, Heartbleed) is treated as a separate class"
   ]
  },
  {
   "cell_type": "code",
   "execution_count": 2,
   "id": "fe8942ca-98f2-43f6-8f1b-693dc274cc2c",
   "metadata": {},
   "outputs": [],
   "source": [
    "import sys\n",
    "import os\n",
    "sys.path.append(os.path.abspath(\"..\"))"
   ]
  },
  {
   "cell_type": "code",
   "execution_count": 3,
   "id": "1dbfe969-4367-44bf-be18-5680fae7b047",
   "metadata": {},
   "outputs": [],
   "source": [
    "%load_ext autoreload\n",
    "%autoreload 2"
   ]
  },
  {
   "cell_type": "code",
   "execution_count": 20,
   "id": "12df3726-7dc6-4d79-adcf-057f740b3345",
   "metadata": {},
   "outputs": [],
   "source": [
    "from utils.model_utils import split_data, train_model, evaluate_model, save_model, encode_labels\n",
    "from utils import data_preparation"
   ]
  },
  {
   "cell_type": "code",
   "execution_count": 11,
   "id": "c9f4e09a-197f-4ec2-bed2-5c81d9ed6fd1",
   "metadata": {},
   "outputs": [
    {
     "name": "stdout",
     "output_type": "stream",
     "text": [
      "Dataset loaded from: ../datasets/cic-ids2017_allattacks_multiclass_clean.csv — shape: (2574151, 9)\n"
     ]
    }
   ],
   "source": [
    "data = data_preparation.load_dataset('../datasets/cic-ids2017_allattacks_multiclass_clean.csv')"
   ]
  },
  {
   "cell_type": "code",
   "execution_count": 12,
   "id": "b78b809d-92df-46a8-a1ef-9712cbbc1526",
   "metadata": {},
   "outputs": [
    {
     "data": {
      "text/html": [
       "<div>\n",
       "<style scoped>\n",
       "    .dataframe tbody tr th:only-of-type {\n",
       "        vertical-align: middle;\n",
       "    }\n",
       "\n",
       "    .dataframe tbody tr th {\n",
       "        vertical-align: top;\n",
       "    }\n",
       "\n",
       "    .dataframe thead th {\n",
       "        text-align: right;\n",
       "    }\n",
       "</style>\n",
       "<table border=\"1\" class=\"dataframe\">\n",
       "  <thead>\n",
       "    <tr style=\"text-align: right;\">\n",
       "      <th></th>\n",
       "      <th>ack_flag</th>\n",
       "      <th>dst_port</th>\n",
       "      <th>fin_flag</th>\n",
       "      <th>flow_duration</th>\n",
       "      <th>psh_flag</th>\n",
       "      <th>syn_flag</th>\n",
       "      <th>bwd_pkts</th>\n",
       "      <th>fwd_pkts</th>\n",
       "      <th>attack_types</th>\n",
       "    </tr>\n",
       "  </thead>\n",
       "  <tbody>\n",
       "    <tr>\n",
       "      <th>0</th>\n",
       "      <td>1</td>\n",
       "      <td>54865</td>\n",
       "      <td>0</td>\n",
       "      <td>3</td>\n",
       "      <td>0</td>\n",
       "      <td>0</td>\n",
       "      <td>0</td>\n",
       "      <td>2</td>\n",
       "      <td>BENIGN</td>\n",
       "    </tr>\n",
       "    <tr>\n",
       "      <th>1</th>\n",
       "      <td>1</td>\n",
       "      <td>55054</td>\n",
       "      <td>0</td>\n",
       "      <td>109</td>\n",
       "      <td>0</td>\n",
       "      <td>0</td>\n",
       "      <td>1</td>\n",
       "      <td>1</td>\n",
       "      <td>BENIGN</td>\n",
       "    </tr>\n",
       "    <tr>\n",
       "      <th>2</th>\n",
       "      <td>1</td>\n",
       "      <td>55055</td>\n",
       "      <td>0</td>\n",
       "      <td>52</td>\n",
       "      <td>0</td>\n",
       "      <td>0</td>\n",
       "      <td>1</td>\n",
       "      <td>1</td>\n",
       "      <td>BENIGN</td>\n",
       "    </tr>\n",
       "    <tr>\n",
       "      <th>3</th>\n",
       "      <td>1</td>\n",
       "      <td>46236</td>\n",
       "      <td>0</td>\n",
       "      <td>34</td>\n",
       "      <td>0</td>\n",
       "      <td>0</td>\n",
       "      <td>1</td>\n",
       "      <td>1</td>\n",
       "      <td>BENIGN</td>\n",
       "    </tr>\n",
       "    <tr>\n",
       "      <th>4</th>\n",
       "      <td>1</td>\n",
       "      <td>54863</td>\n",
       "      <td>0</td>\n",
       "      <td>3</td>\n",
       "      <td>0</td>\n",
       "      <td>0</td>\n",
       "      <td>0</td>\n",
       "      <td>2</td>\n",
       "      <td>BENIGN</td>\n",
       "    </tr>\n",
       "  </tbody>\n",
       "</table>\n",
       "</div>"
      ],
      "text/plain": [
       "   ack_flag  dst_port  fin_flag  flow_duration  psh_flag  syn_flag  bwd_pkts  \\\n",
       "0         1     54865         0              3         0         0         0   \n",
       "1         1     55054         0            109         0         0         1   \n",
       "2         1     55055         0             52         0         0         1   \n",
       "3         1     46236         0             34         0         0         1   \n",
       "4         1     54863         0              3         0         0         0   \n",
       "\n",
       "   fwd_pkts attack_types  \n",
       "0         2       BENIGN  \n",
       "1         1       BENIGN  \n",
       "2         1       BENIGN  \n",
       "3         1       BENIGN  \n",
       "4         2       BENIGN  "
      ]
     },
     "execution_count": 12,
     "metadata": {},
     "output_type": "execute_result"
    }
   ],
   "source": [
    "data.head()"
   ]
  },
  {
   "cell_type": "code",
   "execution_count": 19,
   "id": "b9f85483-68f6-4792-aa12-5990644cf3b1",
   "metadata": {},
   "outputs": [
    {
     "data": {
      "text/plain": [
       "attack_types\n",
       "BENIGN                        2148273\n",
       "DoS Hulk                       172849\n",
       "DDoS                           128016\n",
       "PortScan                        90819\n",
       "DoS GoldenEye                   10286\n",
       "FTP-Patator                      5933\n",
       "DoS slowloris                    5385\n",
       "DoS Slowhttptest                 5228\n",
       "SSH-Patator                      3219\n",
       "Bot                              1953\n",
       "Web Attack � Brute Force         1470\n",
       "Web Attack � XSS                  652\n",
       "Infiltration                       36\n",
       "Web Attack � Sql Injection         21\n",
       "Heartbleed                         11\n",
       "Name: count, dtype: int64"
      ]
     },
     "execution_count": 19,
     "metadata": {},
     "output_type": "execute_result"
    }
   ],
   "source": [
    "data['attack_types'].value_counts()"
   ]
  },
  {
   "cell_type": "code",
   "execution_count": 21,
   "id": "1ae337a6-0181-46a5-86c6-7119248c38c7",
   "metadata": {},
   "outputs": [
    {
     "name": "stdout",
     "output_type": "stream",
     "text": [
      "0: BENIGN\n",
      "1: Bot\n",
      "2: DDoS\n",
      "3: DoS GoldenEye\n",
      "4: DoS Hulk\n",
      "5: DoS Slowhttptest\n",
      "6: DoS slowloris\n",
      "7: FTP-Patator\n",
      "8: Heartbleed\n",
      "9: Infiltration\n",
      "10: PortScan\n",
      "11: SSH-Patator\n",
      "12: Web Attack � Brute Force\n",
      "13: Web Attack � Sql Injection\n",
      "14: Web Attack � XSS\n"
     ]
    }
   ],
   "source": [
    "le, data = encode_labels(data, 'attack_types')"
   ]
  },
  {
   "cell_type": "code",
   "execution_count": 23,
   "id": "0d4c1961-8d58-4452-a92e-11d1a64306dc",
   "metadata": {},
   "outputs": [],
   "source": [
    "data.drop(columns=['attack_types'], inplace=True)"
   ]
  },
  {
   "cell_type": "code",
   "execution_count": 24,
   "id": "5a7117f4-38f5-4cd0-9f91-cdce5ade84f3",
   "metadata": {},
   "outputs": [
    {
     "data": {
      "text/html": [
       "<div>\n",
       "<style scoped>\n",
       "    .dataframe tbody tr th:only-of-type {\n",
       "        vertical-align: middle;\n",
       "    }\n",
       "\n",
       "    .dataframe tbody tr th {\n",
       "        vertical-align: top;\n",
       "    }\n",
       "\n",
       "    .dataframe thead th {\n",
       "        text-align: right;\n",
       "    }\n",
       "</style>\n",
       "<table border=\"1\" class=\"dataframe\">\n",
       "  <thead>\n",
       "    <tr style=\"text-align: right;\">\n",
       "      <th></th>\n",
       "      <th>ack_flag</th>\n",
       "      <th>dst_port</th>\n",
       "      <th>fin_flag</th>\n",
       "      <th>flow_duration</th>\n",
       "      <th>psh_flag</th>\n",
       "      <th>syn_flag</th>\n",
       "      <th>bwd_pkts</th>\n",
       "      <th>fwd_pkts</th>\n",
       "      <th>attack_types_encoded</th>\n",
       "    </tr>\n",
       "  </thead>\n",
       "  <tbody>\n",
       "    <tr>\n",
       "      <th>0</th>\n",
       "      <td>1</td>\n",
       "      <td>54865</td>\n",
       "      <td>0</td>\n",
       "      <td>3</td>\n",
       "      <td>0</td>\n",
       "      <td>0</td>\n",
       "      <td>0</td>\n",
       "      <td>2</td>\n",
       "      <td>0</td>\n",
       "    </tr>\n",
       "    <tr>\n",
       "      <th>1</th>\n",
       "      <td>1</td>\n",
       "      <td>55054</td>\n",
       "      <td>0</td>\n",
       "      <td>109</td>\n",
       "      <td>0</td>\n",
       "      <td>0</td>\n",
       "      <td>1</td>\n",
       "      <td>1</td>\n",
       "      <td>0</td>\n",
       "    </tr>\n",
       "    <tr>\n",
       "      <th>2</th>\n",
       "      <td>1</td>\n",
       "      <td>55055</td>\n",
       "      <td>0</td>\n",
       "      <td>52</td>\n",
       "      <td>0</td>\n",
       "      <td>0</td>\n",
       "      <td>1</td>\n",
       "      <td>1</td>\n",
       "      <td>0</td>\n",
       "    </tr>\n",
       "    <tr>\n",
       "      <th>3</th>\n",
       "      <td>1</td>\n",
       "      <td>46236</td>\n",
       "      <td>0</td>\n",
       "      <td>34</td>\n",
       "      <td>0</td>\n",
       "      <td>0</td>\n",
       "      <td>1</td>\n",
       "      <td>1</td>\n",
       "      <td>0</td>\n",
       "    </tr>\n",
       "    <tr>\n",
       "      <th>4</th>\n",
       "      <td>1</td>\n",
       "      <td>54863</td>\n",
       "      <td>0</td>\n",
       "      <td>3</td>\n",
       "      <td>0</td>\n",
       "      <td>0</td>\n",
       "      <td>0</td>\n",
       "      <td>2</td>\n",
       "      <td>0</td>\n",
       "    </tr>\n",
       "  </tbody>\n",
       "</table>\n",
       "</div>"
      ],
      "text/plain": [
       "   ack_flag  dst_port  fin_flag  flow_duration  psh_flag  syn_flag  bwd_pkts  \\\n",
       "0         1     54865         0              3         0         0         0   \n",
       "1         1     55054         0            109         0         0         1   \n",
       "2         1     55055         0             52         0         0         1   \n",
       "3         1     46236         0             34         0         0         1   \n",
       "4         1     54863         0              3         0         0         0   \n",
       "\n",
       "   fwd_pkts  attack_types_encoded  \n",
       "0         2                     0  \n",
       "1         1                     0  \n",
       "2         1                     0  \n",
       "3         1                     0  \n",
       "4         2                     0  "
      ]
     },
     "execution_count": 24,
     "metadata": {},
     "output_type": "execute_result"
    }
   ],
   "source": [
    "data.head()"
   ]
  },
  {
   "cell_type": "code",
   "execution_count": 25,
   "id": "78c4d9c1-be05-4bbe-89bb-3b5e85782749",
   "metadata": {},
   "outputs": [],
   "source": [
    "X_train, X_test, y_train, y_test = split_data(data, label_column='attack_types_encoded')"
   ]
  },
  {
   "cell_type": "markdown",
   "id": "cdc3b2f0-694b-4ae6-beb7-e2fa3568286c",
   "metadata": {},
   "source": [
    "# XGB"
   ]
  },
  {
   "cell_type": "code",
   "execution_count": 26,
   "id": "1d26e7f5-0921-4ab4-86f1-8d55dde8db67",
   "metadata": {},
   "outputs": [],
   "source": [
    "xgb_model = train_model(X_train, y_train, model_type='xgb')"
   ]
  },
  {
   "cell_type": "code",
   "execution_count": 27,
   "id": "593466f2-f229-433a-bd2d-7f8b40c5846c",
   "metadata": {},
   "outputs": [
    {
     "name": "stdout",
     "output_type": "stream",
     "text": [
      "=== Classification Report ===\n"
     ]
    },
    {
     "name": "stderr",
     "output_type": "stream",
     "text": [
      "C:\\Users\\kkita\\anaconda3\\envs\\cybersecurity-venv\\Lib\\site-packages\\sklearn\\metrics\\_classification.py:1706: UndefinedMetricWarning: Precision is ill-defined and being set to 0.0 in labels with no predicted samples. Use `zero_division` parameter to control this behavior.\n",
      "  _warn_prf(average, modifier, f\"{metric.capitalize()} is\", result.shape[0])\n",
      "C:\\Users\\kkita\\anaconda3\\envs\\cybersecurity-venv\\Lib\\site-packages\\sklearn\\metrics\\_classification.py:1706: UndefinedMetricWarning: Precision is ill-defined and being set to 0.0 in labels with no predicted samples. Use `zero_division` parameter to control this behavior.\n",
      "  _warn_prf(average, modifier, f\"{metric.capitalize()} is\", result.shape[0])\n",
      "C:\\Users\\kkita\\anaconda3\\envs\\cybersecurity-venv\\Lib\\site-packages\\sklearn\\metrics\\_classification.py:1706: UndefinedMetricWarning: Precision is ill-defined and being set to 0.0 in labels with no predicted samples. Use `zero_division` parameter to control this behavior.\n",
      "  _warn_prf(average, modifier, f\"{metric.capitalize()} is\", result.shape[0])\n"
     ]
    },
    {
     "name": "stdout",
     "output_type": "stream",
     "text": [
      "              precision    recall  f1-score   support\n",
      "\n",
      "           0       0.99      1.00      1.00    644482\n",
      "           1       1.00      0.38      0.55       586\n",
      "           2       0.93      0.92      0.93     38405\n",
      "           3       0.85      0.84      0.84      3086\n",
      "           4       0.96      0.96      0.96     51855\n",
      "           5       0.95      0.95      0.95      1568\n",
      "           6       0.97      0.97      0.97      1615\n",
      "           7       1.00      1.00      1.00      1780\n",
      "           8       0.33      0.67      0.44         3\n",
      "           9       1.00      0.18      0.31        11\n",
      "          10       0.99      1.00      0.99     27246\n",
      "          11       0.97      0.96      0.97       966\n",
      "          12       0.83      0.07      0.12       441\n",
      "          13       0.00      0.00      0.00         6\n",
      "          14       0.56      0.03      0.05       196\n",
      "\n",
      "    accuracy                           0.99    772246\n",
      "   macro avg       0.82      0.66      0.67    772246\n",
      "weighted avg       0.99      0.99      0.99    772246\n",
      "\n",
      "=== Confusion Matrix ===\n",
      "[[642440      0    911    468    273     47      6      1      3      0\n",
      "     297     27      5      0      4]\n",
      " [   364    222      0      0      0      0      0      0      0      0\n",
      "       0      0      0      0      0]\n",
      " [  1386      0  35301      1   1716      0      0      0      0      0\n",
      "       0      0      1      0      0]\n",
      " [   491      0      0   2591      2      1      1      0      0      0\n",
      "       0      0      0      0      0]\n",
      " [   507      0   1542      1  49805      0      0      0      0      0\n",
      "       0      0      0      0      0]\n",
      " [    34      0      0      1      0   1491     42      0      0      0\n",
      "       0      0      0      0      0]\n",
      " [    23      0      0      1      0     30   1561      0      0      0\n",
      "       0      0      0      0      0]\n",
      " [     3      0      0      0      0      0      0   1777      0      0\n",
      "       0      0      0      0      0]\n",
      " [     1      0      0      0      0      0      0      0      2      0\n",
      "       0      0      0      0      0]\n",
      " [     8      0      0      0      0      0      0      0      1      2\n",
      "       0      0      0      0      0]\n",
      " [     7      0     10      0      8      0      0      0      0      0\n",
      "   27221      0      0      0      0]\n",
      " [    34      0      0      0      0      0      0      0      0      0\n",
      "       0    932      0      0      0]\n",
      " [   411      0      0      1      0      0      0      0      0      0\n",
      "       0      0     29      0      0]\n",
      " [     5      0      0      1      0      0      0      0      0      0\n",
      "       0      0      0      0      0]\n",
      " [   191      0      0      0      0      0      0      0      0      0\n",
      "       0      0      0      0      5]]\n",
      "Model does not support probability prediction.\n"
     ]
    }
   ],
   "source": [
    "evaluate_model(xgb_model, X_test, y_test)"
   ]
  },
  {
   "cell_type": "code",
   "execution_count": null,
   "id": "00761786-51af-4c0c-b53c-b034f22e1fc4",
   "metadata": {},
   "outputs": [],
   "source": []
  }
 ],
 "metadata": {
  "kernelspec": {
   "display_name": "Python 3 (ipykernel)",
   "language": "python",
   "name": "python3"
  },
  "language_info": {
   "codemirror_mode": {
    "name": "ipython",
    "version": 3
   },
   "file_extension": ".py",
   "mimetype": "text/x-python",
   "name": "python",
   "nbconvert_exporter": "python",
   "pygments_lexer": "ipython3",
   "version": "3.13.5"
  }
 },
 "nbformat": 4,
 "nbformat_minor": 5
}
